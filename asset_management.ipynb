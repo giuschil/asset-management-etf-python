{
  "nbformat": 4,
  "nbformat_minor": 0,
  "metadata": {
    "colab": {
      "provenance": [],
      "authorship_tag": "ABX9TyPhKIhiKNK3hs0gAoQfqXV2",
      "include_colab_link": true
    },
    "kernelspec": {
      "name": "python3",
      "display_name": "Python 3"
    },
    "language_info": {
      "name": "python"
    }
  },
  "cells": [
    {
      "cell_type": "markdown",
      "metadata": {
        "id": "view-in-github",
        "colab_type": "text"
      },
      "source": [
        "<a href=\"https://colab.research.google.com/github/giuschil/asset-management-etf-python/blob/main/asset_management.ipynb\" target=\"_parent\"><img src=\"https://colab.research.google.com/assets/colab-badge.svg\" alt=\"Open In Colab\"/></a>"
      ]
    },
    {
      "cell_type": "code",
      "execution_count": 9,
      "metadata": {
        "id": "cjttGqcOYhyx"
      },
      "outputs": [],
      "source": [
        "import yfinance as yf\n",
        "import pandas as pd\n",
        "\n",
        "def scarica_dati(ticker, start_date, end_date):\n",
        "    \"\"\"\n",
        "    Scarica i dati di chiusura al primo giorno del mese per un ETF.\n",
        "    \"\"\"\n",
        "    dati = yf.download(ticker, start=start_date, end=end_date)['Close']\n",
        "    # Filtra i dati per il primo giorno di ogni mese\n",
        "    dati_mensili = dati.resample('MS').first()\n",
        "    return dati_mensili\n",
        "\n"
      ]
    },
    {
      "cell_type": "code",
      "source": [
        "def simula_portafoglio(dati1, dati2, dati3, peso1, peso2, peso3, investimento_iniziale, investimento_mensile):\n",
        "    \"\"\"\n",
        "    Simula un portafoglio con un investimento iniziale e aggiunte mensili per tre ETF.\n",
        "    \"\"\"\n",
        "    # Verifica dei dati di input\n",
        "    if dati1.empty or dati2.empty or dati3.empty:\n",
        "        raise ValueError(\"Uno o più dei dataset forniti sono vuoti.\")\n",
        "    if not dati1.index.equals(dati2.index) or not dati1.index.equals(dati3.index):\n",
        "        raise ValueError(\"Gli indici dei dataset forniti non corrispondono.\")\n",
        "\n",
        "    # Suddivisione dell'investimento iniziale\n",
        "    capitale1 = investimento_iniziale * peso1\n",
        "    capitale2 = investimento_iniziale * peso2\n",
        "    capitale3 = investimento_iniziale * peso3\n",
        "\n",
        "    # Creazione del DataFrame per tracciare la simulazione\n",
        "    portafoglio = pd.DataFrame(index=dati1.index)\n",
        "    portafoglio['Prezzo ETF1'] = dati1\n",
        "    portafoglio['Prezzo ETF2'] = dati2\n",
        "    portafoglio['Prezzo ETF3'] = dati3\n",
        "    portafoglio['Quote ETF1'] = 0.0\n",
        "    portafoglio['Quote ETF2'] = 0.0\n",
        "    portafoglio['Quote ETF3'] = 0.0\n",
        "    portafoglio['Valore ETF1'] = 0.0\n",
        "    portafoglio['Valore ETF2'] = 0.0\n",
        "    portafoglio['Valore ETF3'] = 0.0\n",
        "    portafoglio['Valore Totale'] = 0.0\n",
        "\n",
        "    # Acquisto iniziale\n",
        "    if len(portafoglio) > 0:\n",
        "        portafoglio.iloc[0, portafoglio.columns.get_loc('Quote ETF1')] = capitale1 / dati1.iloc[0]\n",
        "        portafoglio.iloc[0, portafoglio.columns.get_loc('Quote ETF2')] = capitale2 / dati2.iloc[0]\n",
        "        portafoglio.iloc[0, portafoglio.columns.get_loc('Quote ETF3')] = capitale3 / dati3.iloc[0]\n",
        "    else:\n",
        "        raise ValueError(\"Il DataFrame non contiene dati validi per iniziare la simulazione.\")\n",
        "\n",
        "    # Simulazione mensile\n",
        "    for i in range(1, len(portafoglio)):\n",
        "        # Prezzi attuali\n",
        "        prezzo1 = dati1.iloc[i]\n",
        "        prezzo2 = dati2.iloc[i]\n",
        "        prezzo3 = dati3.iloc[i]\n",
        "\n",
        "        # Investimento mensile\n",
        "        acquisto1 = (investimento_mensile * peso1) / prezzo1 if prezzo1 > 0 else 0\n",
        "        acquisto2 = (investimento_mensile * peso2) / prezzo2 if prezzo2 > 0 else 0\n",
        "        acquisto3 = (investimento_mensile * peso3) / prezzo3 if prezzo3 > 0 else 0\n",
        "\n",
        "        # Aggiungi le quote acquistate\n",
        "        portafoglio.iloc[i, portafoglio.columns.get_loc('Quote ETF1')] = (\n",
        "            portafoglio.iloc[i - 1, portafoglio.columns.get_loc('Quote ETF1')] + acquisto1\n",
        "        )\n",
        "        portafoglio.iloc[i, portafoglio.columns.get_loc('Quote ETF2')] = (\n",
        "            portafoglio.iloc[i - 1, portafoglio.columns.get_loc('Quote ETF2')] + acquisto2\n",
        "        )\n",
        "        portafoglio.iloc[i, portafoglio.columns.get_loc('Quote ETF3')] = (\n",
        "            portafoglio.iloc[i - 1, portafoglio.columns.get_loc('Quote ETF3')] + acquisto3\n",
        "        )\n",
        "\n",
        "        # Calcola il valore degli ETF\n",
        "        portafoglio.iloc[i, portafoglio.columns.get_loc('Valore ETF1')] = (\n",
        "            portafoglio.iloc[i, portafoglio.columns.get_loc('Quote ETF1')] * prezzo1\n",
        "        )\n",
        "        portafoglio.iloc[i, portafoglio.columns.get_loc('Valore ETF2')] = (\n",
        "            portafoglio.iloc[i, portafoglio.columns.get_loc('Quote ETF2')] * prezzo2\n",
        "        )\n",
        "        portafoglio.iloc[i, portafoglio.columns.get_loc('Valore ETF3')] = (\n",
        "            portafoglio.iloc[i, portafoglio.columns.get_loc('Quote ETF3')] * prezzo3\n",
        "        )\n",
        "\n",
        "        # Calcola il valore totale del portafoglio\n",
        "        portafoglio.iloc[i, portafoglio.columns.get_loc('Valore Totale')] = (\n",
        "            portafoglio.iloc[i, portafoglio.columns.get_loc('Valore ETF1')] +\n",
        "            portafoglio.iloc[i, portafoglio.columns.get_loc('Valore ETF2')] +\n",
        "            portafoglio.iloc[i, portafoglio.columns.get_loc('Valore ETF3')]\n",
        "        )\n",
        "\n",
        "    return portafoglio\n"
      ],
      "metadata": {
        "id": "h4kvdrDMsEES"
      },
      "execution_count": 22,
      "outputs": []
    },
    {
      "cell_type": "markdown",
      "source": [
        "# **Scarica dati**"
      ],
      "metadata": {
        "id": "9qG5MOUoq2GE"
      }
    },
    {
      "cell_type": "code",
      "source": [
        "\n",
        "\n",
        "# Parametri di simulazione\n",
        "ticker1 = \"VUSA.MI\"  # Vanguard S&P 500 UCITS ETF\n",
        "ticker2 = \"IEMB.MI\"  # iShares Core MSCI EM IMI UCITS ETF\n",
        "ticker3 = \"WSML.MI\" # l'iShares MSCI World Small Cap UCITS ETF (Acc)\n",
        "\n",
        "start_date = \"2024-01-01\"\n",
        "end_date = \"2025-01-01\"\n",
        "peso1 = 0.65\n",
        "peso2 = 0.25\n",
        "peso3 = 0.15\n",
        "\n",
        "\n",
        "investimento_iniziale = 10000  # €10,000\n",
        "investimento_mensile = 250  # €200 al mese\n",
        "\n",
        "# Scarica i dati\n",
        "dati1 = scarica_dati(ticker1, start_date, end_date)\n",
        "dati2 = scarica_dati(ticker2, start_date, end_date)\n",
        "dati3 = scarica_dati(ticker3, start_date, end_date)\n"
      ],
      "metadata": {
        "id": "uJ4aMYgkotOj",
        "outputId": "916ee957-4d5a-45d4-c20f-b8e488f295d3",
        "colab": {
          "base_uri": "https://localhost:8080/"
        }
      },
      "execution_count": 24,
      "outputs": [
        {
          "output_type": "stream",
          "name": "stderr",
          "text": [
            "[*********************100%***********************]  1 of 1 completed\n",
            "[*********************100%***********************]  1 of 1 completed\n",
            "[*********************100%***********************]  1 of 1 completed\n",
            "ERROR:yfinance:\n",
            "1 Failed download:\n",
            "ERROR:yfinance:['WSML.MI']: YFTzMissingError('$%ticker%: possibly delisted; no timezone found')\n"
          ]
        }
      ]
    },
    {
      "cell_type": "code",
      "source": [
        "# Simula il portafoglio\n",
        "portafoglio = simula_portafoglio(dati1, dati2, dati3, peso1, peso2, peso3, investimento_iniziale, investimento_mensile)\n",
        "\n",
        "# Mostra il risultato finale\n",
        "print(portafoglio)\n",
        "#print(f\"Valore finale del portafoglio: {portafoglio['Valore Totale'].iloc[-1]:.2f} €\")"
      ],
      "metadata": {
        "id": "nK55AcDestnz",
        "outputId": "708e9648-da0e-4d42-b660-e3f645fd2e51",
        "colab": {
          "base_uri": "https://localhost:8080/",
          "height": 356
        }
      },
      "execution_count": 26,
      "outputs": [
        {
          "output_type": "error",
          "ename": "IndexError",
          "evalue": "single positional indexer is out-of-bounds",
          "traceback": [
            "\u001b[0;31m---------------------------------------------------------------------------\u001b[0m",
            "\u001b[0;31mIndexError\u001b[0m                                Traceback (most recent call last)",
            "\u001b[0;32m<ipython-input-26-2da7bae9cc6f>\u001b[0m in \u001b[0;36m<cell line: 0>\u001b[0;34m()\u001b[0m\n\u001b[1;32m      1\u001b[0m \u001b[0;31m# Simula il portafoglio\u001b[0m\u001b[0;34m\u001b[0m\u001b[0;34m\u001b[0m\u001b[0m\n\u001b[0;32m----> 2\u001b[0;31m \u001b[0mportafoglio\u001b[0m \u001b[0;34m=\u001b[0m \u001b[0msimula_portafoglio\u001b[0m\u001b[0;34m(\u001b[0m\u001b[0mdati1\u001b[0m\u001b[0;34m,\u001b[0m \u001b[0mdati2\u001b[0m\u001b[0;34m,\u001b[0m \u001b[0mdati3\u001b[0m\u001b[0;34m,\u001b[0m \u001b[0mpeso1\u001b[0m\u001b[0;34m,\u001b[0m \u001b[0mpeso2\u001b[0m\u001b[0;34m,\u001b[0m \u001b[0mpeso3\u001b[0m\u001b[0;34m,\u001b[0m \u001b[0minvestimento_iniziale\u001b[0m\u001b[0;34m,\u001b[0m \u001b[0minvestimento_mensile\u001b[0m\u001b[0;34m)\u001b[0m\u001b[0;34m\u001b[0m\u001b[0;34m\u001b[0m\u001b[0m\n\u001b[0m\u001b[1;32m      3\u001b[0m \u001b[0;34m\u001b[0m\u001b[0m\n\u001b[1;32m      4\u001b[0m \u001b[0;31m# Mostra il risultato finale\u001b[0m\u001b[0;34m\u001b[0m\u001b[0;34m\u001b[0m\u001b[0m\n\u001b[1;32m      5\u001b[0m \u001b[0mprint\u001b[0m\u001b[0;34m(\u001b[0m\u001b[0mportafoglio\u001b[0m\u001b[0;34m)\u001b[0m\u001b[0;34m\u001b[0m\u001b[0;34m\u001b[0m\u001b[0m\n",
            "\u001b[0;32m<ipython-input-22-8bcc77859b08>\u001b[0m in \u001b[0;36msimula_portafoglio\u001b[0;34m(dati1, dati2, dati3, peso1, peso2, peso3, investimento_iniziale, investimento_mensile)\u001b[0m\n\u001b[1;32m     24\u001b[0m     \u001b[0mportafoglio\u001b[0m\u001b[0;34m.\u001b[0m\u001b[0miloc\u001b[0m\u001b[0;34m[\u001b[0m\u001b[0;36m0\u001b[0m\u001b[0;34m,\u001b[0m \u001b[0mportafoglio\u001b[0m\u001b[0;34m.\u001b[0m\u001b[0mcolumns\u001b[0m\u001b[0;34m.\u001b[0m\u001b[0mget_loc\u001b[0m\u001b[0;34m(\u001b[0m\u001b[0;34m'Quote ETF1'\u001b[0m\u001b[0;34m)\u001b[0m\u001b[0;34m]\u001b[0m \u001b[0;34m=\u001b[0m \u001b[0mcapitale1\u001b[0m \u001b[0;34m/\u001b[0m \u001b[0mdati1\u001b[0m\u001b[0;34m.\u001b[0m\u001b[0miloc\u001b[0m\u001b[0;34m[\u001b[0m\u001b[0;36m0\u001b[0m\u001b[0;34m]\u001b[0m\u001b[0;34m\u001b[0m\u001b[0;34m\u001b[0m\u001b[0m\n\u001b[1;32m     25\u001b[0m     \u001b[0mportafoglio\u001b[0m\u001b[0;34m.\u001b[0m\u001b[0miloc\u001b[0m\u001b[0;34m[\u001b[0m\u001b[0;36m0\u001b[0m\u001b[0;34m,\u001b[0m \u001b[0mportafoglio\u001b[0m\u001b[0;34m.\u001b[0m\u001b[0mcolumns\u001b[0m\u001b[0;34m.\u001b[0m\u001b[0mget_loc\u001b[0m\u001b[0;34m(\u001b[0m\u001b[0;34m'Quote ETF2'\u001b[0m\u001b[0;34m)\u001b[0m\u001b[0;34m]\u001b[0m \u001b[0;34m=\u001b[0m \u001b[0mcapitale2\u001b[0m \u001b[0;34m/\u001b[0m \u001b[0mdati2\u001b[0m\u001b[0;34m.\u001b[0m\u001b[0miloc\u001b[0m\u001b[0;34m[\u001b[0m\u001b[0;36m0\u001b[0m\u001b[0;34m]\u001b[0m\u001b[0;34m\u001b[0m\u001b[0;34m\u001b[0m\u001b[0m\n\u001b[0;32m---> 26\u001b[0;31m     \u001b[0mportafoglio\u001b[0m\u001b[0;34m.\u001b[0m\u001b[0miloc\u001b[0m\u001b[0;34m[\u001b[0m\u001b[0;36m0\u001b[0m\u001b[0;34m,\u001b[0m \u001b[0mportafoglio\u001b[0m\u001b[0;34m.\u001b[0m\u001b[0mcolumns\u001b[0m\u001b[0;34m.\u001b[0m\u001b[0mget_loc\u001b[0m\u001b[0;34m(\u001b[0m\u001b[0;34m'Quote ETF3'\u001b[0m\u001b[0;34m)\u001b[0m\u001b[0;34m]\u001b[0m \u001b[0;34m=\u001b[0m \u001b[0mcapitale3\u001b[0m \u001b[0;34m/\u001b[0m \u001b[0mdati3\u001b[0m\u001b[0;34m.\u001b[0m\u001b[0miloc\u001b[0m\u001b[0;34m[\u001b[0m\u001b[0;36m0\u001b[0m\u001b[0;34m]\u001b[0m\u001b[0;34m\u001b[0m\u001b[0;34m\u001b[0m\u001b[0m\n\u001b[0m\u001b[1;32m     27\u001b[0m \u001b[0;34m\u001b[0m\u001b[0m\n\u001b[1;32m     28\u001b[0m     \u001b[0;31m# Simulazione mensile\u001b[0m\u001b[0;34m\u001b[0m\u001b[0;34m\u001b[0m\u001b[0m\n",
            "\u001b[0;32m/usr/local/lib/python3.11/dist-packages/pandas/core/indexing.py\u001b[0m in \u001b[0;36m__getitem__\u001b[0;34m(self, key)\u001b[0m\n\u001b[1;32m   1189\u001b[0m             \u001b[0mmaybe_callable\u001b[0m \u001b[0;34m=\u001b[0m \u001b[0mcom\u001b[0m\u001b[0;34m.\u001b[0m\u001b[0mapply_if_callable\u001b[0m\u001b[0;34m(\u001b[0m\u001b[0mkey\u001b[0m\u001b[0;34m,\u001b[0m \u001b[0mself\u001b[0m\u001b[0;34m.\u001b[0m\u001b[0mobj\u001b[0m\u001b[0;34m)\u001b[0m\u001b[0;34m\u001b[0m\u001b[0;34m\u001b[0m\u001b[0m\n\u001b[1;32m   1190\u001b[0m             \u001b[0mmaybe_callable\u001b[0m \u001b[0;34m=\u001b[0m \u001b[0mself\u001b[0m\u001b[0;34m.\u001b[0m\u001b[0m_check_deprecated_callable_usage\u001b[0m\u001b[0;34m(\u001b[0m\u001b[0mkey\u001b[0m\u001b[0;34m,\u001b[0m \u001b[0mmaybe_callable\u001b[0m\u001b[0;34m)\u001b[0m\u001b[0;34m\u001b[0m\u001b[0;34m\u001b[0m\u001b[0m\n\u001b[0;32m-> 1191\u001b[0;31m             \u001b[0;32mreturn\u001b[0m \u001b[0mself\u001b[0m\u001b[0;34m.\u001b[0m\u001b[0m_getitem_axis\u001b[0m\u001b[0;34m(\u001b[0m\u001b[0mmaybe_callable\u001b[0m\u001b[0;34m,\u001b[0m \u001b[0maxis\u001b[0m\u001b[0;34m=\u001b[0m\u001b[0maxis\u001b[0m\u001b[0;34m)\u001b[0m\u001b[0;34m\u001b[0m\u001b[0;34m\u001b[0m\u001b[0m\n\u001b[0m\u001b[1;32m   1192\u001b[0m \u001b[0;34m\u001b[0m\u001b[0m\n\u001b[1;32m   1193\u001b[0m     \u001b[0;32mdef\u001b[0m \u001b[0m_is_scalar_access\u001b[0m\u001b[0;34m(\u001b[0m\u001b[0mself\u001b[0m\u001b[0;34m,\u001b[0m \u001b[0mkey\u001b[0m\u001b[0;34m:\u001b[0m \u001b[0mtuple\u001b[0m\u001b[0;34m)\u001b[0m\u001b[0;34m:\u001b[0m\u001b[0;34m\u001b[0m\u001b[0;34m\u001b[0m\u001b[0m\n",
            "\u001b[0;32m/usr/local/lib/python3.11/dist-packages/pandas/core/indexing.py\u001b[0m in \u001b[0;36m_getitem_axis\u001b[0;34m(self, key, axis)\u001b[0m\n\u001b[1;32m   1750\u001b[0m \u001b[0;34m\u001b[0m\u001b[0m\n\u001b[1;32m   1751\u001b[0m             \u001b[0;31m# validate the location\u001b[0m\u001b[0;34m\u001b[0m\u001b[0;34m\u001b[0m\u001b[0m\n\u001b[0;32m-> 1752\u001b[0;31m             \u001b[0mself\u001b[0m\u001b[0;34m.\u001b[0m\u001b[0m_validate_integer\u001b[0m\u001b[0;34m(\u001b[0m\u001b[0mkey\u001b[0m\u001b[0;34m,\u001b[0m \u001b[0maxis\u001b[0m\u001b[0;34m)\u001b[0m\u001b[0;34m\u001b[0m\u001b[0;34m\u001b[0m\u001b[0m\n\u001b[0m\u001b[1;32m   1753\u001b[0m \u001b[0;34m\u001b[0m\u001b[0m\n\u001b[1;32m   1754\u001b[0m             \u001b[0;32mreturn\u001b[0m \u001b[0mself\u001b[0m\u001b[0;34m.\u001b[0m\u001b[0mobj\u001b[0m\u001b[0;34m.\u001b[0m\u001b[0m_ixs\u001b[0m\u001b[0;34m(\u001b[0m\u001b[0mkey\u001b[0m\u001b[0;34m,\u001b[0m \u001b[0maxis\u001b[0m\u001b[0;34m=\u001b[0m\u001b[0maxis\u001b[0m\u001b[0;34m)\u001b[0m\u001b[0;34m\u001b[0m\u001b[0;34m\u001b[0m\u001b[0m\n",
            "\u001b[0;32m/usr/local/lib/python3.11/dist-packages/pandas/core/indexing.py\u001b[0m in \u001b[0;36m_validate_integer\u001b[0;34m(self, key, axis)\u001b[0m\n\u001b[1;32m   1683\u001b[0m         \u001b[0mlen_axis\u001b[0m \u001b[0;34m=\u001b[0m \u001b[0mlen\u001b[0m\u001b[0;34m(\u001b[0m\u001b[0mself\u001b[0m\u001b[0;34m.\u001b[0m\u001b[0mobj\u001b[0m\u001b[0;34m.\u001b[0m\u001b[0m_get_axis\u001b[0m\u001b[0;34m(\u001b[0m\u001b[0maxis\u001b[0m\u001b[0;34m)\u001b[0m\u001b[0;34m)\u001b[0m\u001b[0;34m\u001b[0m\u001b[0;34m\u001b[0m\u001b[0m\n\u001b[1;32m   1684\u001b[0m         \u001b[0;32mif\u001b[0m \u001b[0mkey\u001b[0m \u001b[0;34m>=\u001b[0m \u001b[0mlen_axis\u001b[0m \u001b[0;32mor\u001b[0m \u001b[0mkey\u001b[0m \u001b[0;34m<\u001b[0m \u001b[0;34m-\u001b[0m\u001b[0mlen_axis\u001b[0m\u001b[0;34m:\u001b[0m\u001b[0;34m\u001b[0m\u001b[0;34m\u001b[0m\u001b[0m\n\u001b[0;32m-> 1685\u001b[0;31m             \u001b[0;32mraise\u001b[0m \u001b[0mIndexError\u001b[0m\u001b[0;34m(\u001b[0m\u001b[0;34m\"single positional indexer is out-of-bounds\"\u001b[0m\u001b[0;34m)\u001b[0m\u001b[0;34m\u001b[0m\u001b[0;34m\u001b[0m\u001b[0m\n\u001b[0m\u001b[1;32m   1686\u001b[0m \u001b[0;34m\u001b[0m\u001b[0m\n\u001b[1;32m   1687\u001b[0m     \u001b[0;31m# -------------------------------------------------------------------\u001b[0m\u001b[0;34m\u001b[0m\u001b[0;34m\u001b[0m\u001b[0m\n",
            "\u001b[0;31mIndexError\u001b[0m: single positional indexer is out-of-bounds"
          ]
        }
      ]
    },
    {
      "cell_type": "code",
      "source": [],
      "metadata": {
        "id": "U0HgU7afs7qC"
      },
      "execution_count": null,
      "outputs": []
    }
  ]
}